{
 "cells": [
  {
   "cell_type": "markdown",
   "metadata": {},
   "source": [
    "## Exploring KNN\n",
    "\n",
    "The dataset contains 85 features that measure demographic characteristics for 5822 individuals that were looking at buying a caravan. We try to predict whether a purchase was made Yes|No. It is an imbalanced dataset with around 6% of people making a purchase."
   ]
  },
  {
   "cell_type": "code",
   "execution_count": 1,
   "metadata": {},
   "outputs": [],
   "source": [
    "import pandas as pd\n",
    "import numpy as np\n",
    "import matplotlib.pyplot as plt\n",
    "import os\n",
    "import seaborn as sns"
   ]
  },
  {
   "cell_type": "code",
   "execution_count": 2,
   "metadata": {},
   "outputs": [
    {
     "data": {
      "text/html": [
       "<div>\n",
       "<style scoped>\n",
       "    .dataframe tbody tr th:only-of-type {\n",
       "        vertical-align: middle;\n",
       "    }\n",
       "\n",
       "    .dataframe tbody tr th {\n",
       "        vertical-align: top;\n",
       "    }\n",
       "\n",
       "    .dataframe thead th {\n",
       "        text-align: right;\n",
       "    }\n",
       "</style>\n",
       "<table border=\"1\" class=\"dataframe\">\n",
       "  <thead>\n",
       "    <tr style=\"text-align: right;\">\n",
       "      <th></th>\n",
       "      <th>MOSTYPE</th>\n",
       "      <th>MAANTHUI</th>\n",
       "      <th>MGEMOMV</th>\n",
       "      <th>MGEMLEEF</th>\n",
       "      <th>MOSHOOFD</th>\n",
       "      <th>MGODRK</th>\n",
       "      <th>MGODPR</th>\n",
       "      <th>MGODOV</th>\n",
       "      <th>MGODGE</th>\n",
       "      <th>MRELGE</th>\n",
       "      <th>...</th>\n",
       "      <th>APERSONG</th>\n",
       "      <th>AGEZONG</th>\n",
       "      <th>AWAOREG</th>\n",
       "      <th>ABRAND</th>\n",
       "      <th>AZEILPL</th>\n",
       "      <th>APLEZIER</th>\n",
       "      <th>AFIETS</th>\n",
       "      <th>AINBOED</th>\n",
       "      <th>ABYSTAND</th>\n",
       "      <th>Purchase</th>\n",
       "    </tr>\n",
       "  </thead>\n",
       "  <tbody>\n",
       "    <tr>\n",
       "      <td>1</td>\n",
       "      <td>33</td>\n",
       "      <td>1</td>\n",
       "      <td>3</td>\n",
       "      <td>2</td>\n",
       "      <td>8</td>\n",
       "      <td>0</td>\n",
       "      <td>5</td>\n",
       "      <td>1</td>\n",
       "      <td>3</td>\n",
       "      <td>7</td>\n",
       "      <td>...</td>\n",
       "      <td>0</td>\n",
       "      <td>0</td>\n",
       "      <td>0</td>\n",
       "      <td>1</td>\n",
       "      <td>0</td>\n",
       "      <td>0</td>\n",
       "      <td>0</td>\n",
       "      <td>0</td>\n",
       "      <td>0</td>\n",
       "      <td>No</td>\n",
       "    </tr>\n",
       "    <tr>\n",
       "      <td>2</td>\n",
       "      <td>37</td>\n",
       "      <td>1</td>\n",
       "      <td>2</td>\n",
       "      <td>2</td>\n",
       "      <td>8</td>\n",
       "      <td>1</td>\n",
       "      <td>4</td>\n",
       "      <td>1</td>\n",
       "      <td>4</td>\n",
       "      <td>6</td>\n",
       "      <td>...</td>\n",
       "      <td>0</td>\n",
       "      <td>0</td>\n",
       "      <td>0</td>\n",
       "      <td>1</td>\n",
       "      <td>0</td>\n",
       "      <td>0</td>\n",
       "      <td>0</td>\n",
       "      <td>0</td>\n",
       "      <td>0</td>\n",
       "      <td>No</td>\n",
       "    </tr>\n",
       "    <tr>\n",
       "      <td>3</td>\n",
       "      <td>37</td>\n",
       "      <td>1</td>\n",
       "      <td>2</td>\n",
       "      <td>2</td>\n",
       "      <td>8</td>\n",
       "      <td>0</td>\n",
       "      <td>4</td>\n",
       "      <td>2</td>\n",
       "      <td>4</td>\n",
       "      <td>3</td>\n",
       "      <td>...</td>\n",
       "      <td>0</td>\n",
       "      <td>0</td>\n",
       "      <td>0</td>\n",
       "      <td>1</td>\n",
       "      <td>0</td>\n",
       "      <td>0</td>\n",
       "      <td>0</td>\n",
       "      <td>0</td>\n",
       "      <td>0</td>\n",
       "      <td>No</td>\n",
       "    </tr>\n",
       "    <tr>\n",
       "      <td>4</td>\n",
       "      <td>9</td>\n",
       "      <td>1</td>\n",
       "      <td>3</td>\n",
       "      <td>3</td>\n",
       "      <td>3</td>\n",
       "      <td>2</td>\n",
       "      <td>3</td>\n",
       "      <td>2</td>\n",
       "      <td>4</td>\n",
       "      <td>5</td>\n",
       "      <td>...</td>\n",
       "      <td>0</td>\n",
       "      <td>0</td>\n",
       "      <td>0</td>\n",
       "      <td>1</td>\n",
       "      <td>0</td>\n",
       "      <td>0</td>\n",
       "      <td>0</td>\n",
       "      <td>0</td>\n",
       "      <td>0</td>\n",
       "      <td>No</td>\n",
       "    </tr>\n",
       "    <tr>\n",
       "      <td>5</td>\n",
       "      <td>40</td>\n",
       "      <td>1</td>\n",
       "      <td>4</td>\n",
       "      <td>2</td>\n",
       "      <td>10</td>\n",
       "      <td>1</td>\n",
       "      <td>4</td>\n",
       "      <td>1</td>\n",
       "      <td>4</td>\n",
       "      <td>7</td>\n",
       "      <td>...</td>\n",
       "      <td>0</td>\n",
       "      <td>0</td>\n",
       "      <td>0</td>\n",
       "      <td>1</td>\n",
       "      <td>0</td>\n",
       "      <td>0</td>\n",
       "      <td>0</td>\n",
       "      <td>0</td>\n",
       "      <td>0</td>\n",
       "      <td>No</td>\n",
       "    </tr>\n",
       "  </tbody>\n",
       "</table>\n",
       "<p>5 rows × 86 columns</p>\n",
       "</div>"
      ],
      "text/plain": [
       "   MOSTYPE  MAANTHUI  MGEMOMV  MGEMLEEF  MOSHOOFD  MGODRK  MGODPR  MGODOV  \\\n",
       "1       33         1        3         2         8       0       5       1   \n",
       "2       37         1        2         2         8       1       4       1   \n",
       "3       37         1        2         2         8       0       4       2   \n",
       "4        9         1        3         3         3       2       3       2   \n",
       "5       40         1        4         2        10       1       4       1   \n",
       "\n",
       "   MGODGE  MRELGE  ...  APERSONG  AGEZONG  AWAOREG  ABRAND  AZEILPL  APLEZIER  \\\n",
       "1       3       7  ...         0        0        0       1        0         0   \n",
       "2       4       6  ...         0        0        0       1        0         0   \n",
       "3       4       3  ...         0        0        0       1        0         0   \n",
       "4       4       5  ...         0        0        0       1        0         0   \n",
       "5       4       7  ...         0        0        0       1        0         0   \n",
       "\n",
       "   AFIETS  AINBOED  ABYSTAND  Purchase  \n",
       "1       0        0         0        No  \n",
       "2       0        0         0        No  \n",
       "3       0        0         0        No  \n",
       "4       0        0         0        No  \n",
       "5       0        0         0        No  \n",
       "\n",
       "[5 rows x 86 columns]"
      ]
     },
     "execution_count": 2,
     "metadata": {},
     "output_type": "execute_result"
    }
   ],
   "source": [
    "df = pd.read_csv('Caravan.csv', index_col=0)\n",
    "df.head()"
   ]
  },
  {
   "cell_type": "code",
   "execution_count": 3,
   "metadata": {},
   "outputs": [
    {
     "data": {
      "text/plain": [
       "(5822, 86)"
      ]
     },
     "execution_count": 3,
     "metadata": {},
     "output_type": "execute_result"
    }
   ],
   "source": [
    "df.shape"
   ]
  },
  {
   "cell_type": "code",
   "execution_count": 4,
   "metadata": {},
   "outputs": [
    {
     "data": {
      "text/plain": [
       "<matplotlib.axes._subplots.AxesSubplot at 0x28bdde75f28>"
      ]
     },
     "execution_count": 4,
     "metadata": {},
     "output_type": "execute_result"
    },
    {
     "data": {
      "image/png": "[encoded data removed]",
      "text/plain": [
       "<Figure size 432x288 with 1 Axes>"
      ]
     },
     "metadata": {
      "needs_background": "light"
     },
     "output_type": "display_data"
    }
   ],
   "source": [
    "(df['Purchase'].value_counts() / len(df)).plot(kind='bar', rot=0)"
   ]
  },
  {
   "cell_type": "code",
   "execution_count": 5,
   "metadata": {},
   "outputs": [],
   "source": [
    "from sklearn.preprocessing import StandardScaler\n",
    "from sklearn.neighbors import KNeighborsClassifier "
   ]
  },
  {
   "cell_type": "code",
   "execution_count": 7,
   "metadata": {},
   "outputs": [],
   "source": [
    "X, y = df.drop(labels=['Purchase'], axis=1), df['Purchase']"
   ]
  },
  {
   "cell_type": "markdown",
   "metadata": {},
   "source": [
    "## How does KNN work?\n",
    "\n",
    "K-nearest neighbors predicts the class of a given test observation by identifying observations that are nearest to it, and then assigning the label of the majority class for those observations. \n",
    "\n",
    "Because 'nearness' is a deciding factor in which class is assigned, the scale of the variables matters. Features with a large scale will have a much higher impact on the distance between observations compared to features with a smaller scale. Imagine a case of two features, salary and age. Salaries are far higher in scale than ages can be. \"nearness\" or \"similarity\" is calculated using distance measures such as Euclidean distance[https://en.wikipedia.org/wiki/Euclidean_distance] - The high magnitude of salary in effect gives it more importance in the calculation, and thus age will not really be considered as a driving factor (as it contributes unequally in the distance measure).\n",
    "\n",
    "To fix this, we should scale our data. We can use the standard scaler in sklearn which scales all features are given a mean of zero and unit variance. All features will then be comparable on scale. "
   ]
  },
  {
   "cell_type": "code",
   "execution_count": 33,
   "metadata": {},
   "outputs": [],
   "source": [
    "salary = [np.random.randint(low=1, high=10) * 10000 for x in range(20)]\n",
    "ages = [np.random.randint(low=20, high=30) for x in range(20)]\n",
    "classes = np.where(np.array(salary)<50000, 1, 0)"
   ]
  },
  {
   "cell_type": "code",
   "execution_count": 48,
   "metadata": {},
   "outputs": [
    {
     "data": {
      "text/plain": [
       "(0, 50)"
      ]
     },
     "execution_count": 48,
     "metadata": {},
     "output_type": "execute_result"
    },
    {
     "data": {
      "image/png": "[encoded data removed]",
      "text/plain": [
       "<Figure size 864x360 with 2 Axes>"
      ]
     },
     "metadata": {
      "needs_background": "light"
     },
     "output_type": "display_data"
    }
   ],
   "source": [
    "scaler = StandardScaler()\n",
    "fig, (ax1, ax2) = plt.subplots(1, 2, figsize=(12, 5))\n",
    "ax1.scatter(ages, salary, c=classes)\n",
    "ax2.scatter(scaler.fit_transform(np.array(ages).reshape(-1, 1)).reshape(1, -1)[0].tolist(), scaler.fit_transform(np.array(salary).reshape(-1, 1)).reshape(1, -1)[0].tolist(), c=classes)\n",
    "ax.set_xlim(0, 50)"
   ]
  },
  {
   "cell_type": "markdown",
   "metadata": {},
   "source": [
    "In the left plot, matplotlib autoscales the axis so it is somewhat misleading. But check the X,Y axes on both plots. We maintain the pattern of our data, but the difference in scales are now the same in the right plot, where on the left plot they are much different."
   ]
  },
  {
   "cell_type": "markdown",
   "metadata": {},
   "source": [
    "## Fitting KNN to our data"
   ]
  },
  {
   "cell_type": "code",
   "execution_count": 57,
   "metadata": {},
   "outputs": [
    {
     "data": {
      "text/html": [
       "<div>\n",
       "<style scoped>\n",
       "    .dataframe tbody tr th:only-of-type {\n",
       "        vertical-align: middle;\n",
       "    }\n",
       "\n",
       "    .dataframe tbody tr th {\n",
       "        vertical-align: top;\n",
       "    }\n",
       "\n",
       "    .dataframe thead th {\n",
       "        text-align: right;\n",
       "    }\n",
       "</style>\n",
       "<table border=\"1\" class=\"dataframe\">\n",
       "  <thead>\n",
       "    <tr style=\"text-align: right;\">\n",
       "      <th></th>\n",
       "      <th>MOSTYPE</th>\n",
       "      <th>MAANTHUI</th>\n",
       "      <th>MGEMOMV</th>\n",
       "      <th>MGEMLEEF</th>\n",
       "      <th>MOSHOOFD</th>\n",
       "      <th>MGODRK</th>\n",
       "      <th>MGODPR</th>\n",
       "      <th>MGODOV</th>\n",
       "      <th>MGODGE</th>\n",
       "      <th>MRELGE</th>\n",
       "      <th>...</th>\n",
       "      <th>ALEVEN</th>\n",
       "      <th>APERSONG</th>\n",
       "      <th>AGEZONG</th>\n",
       "      <th>AWAOREG</th>\n",
       "      <th>ABRAND</th>\n",
       "      <th>AZEILPL</th>\n",
       "      <th>APLEZIER</th>\n",
       "      <th>AFIETS</th>\n",
       "      <th>AINBOED</th>\n",
       "      <th>ABYSTAND</th>\n",
       "    </tr>\n",
       "  </thead>\n",
       "  <tbody>\n",
       "    <tr>\n",
       "      <td>0</td>\n",
       "      <td>0.680906</td>\n",
       "      <td>-0.27258</td>\n",
       "      <td>0.406697</td>\n",
       "      <td>-1.216964</td>\n",
       "      <td>0.779405</td>\n",
       "      <td>-0.694311</td>\n",
       "      <td>0.217444</td>\n",
       "      <td>-0.068711</td>\n",
       "      <td>-0.161816</td>\n",
       "      <td>0.427670</td>\n",
       "      <td>...</td>\n",
       "      <td>-0.20291</td>\n",
       "      <td>-0.073165</td>\n",
       "      <td>-0.081055</td>\n",
       "      <td>-0.05992</td>\n",
       "      <td>0.764971</td>\n",
       "      <td>-0.022706</td>\n",
       "      <td>-0.07365</td>\n",
       "      <td>-0.15062</td>\n",
       "      <td>-0.087348</td>\n",
       "      <td>-0.118816</td>\n",
       "    </tr>\n",
       "    <tr>\n",
       "      <td>1</td>\n",
       "      <td>0.992297</td>\n",
       "      <td>-0.27258</td>\n",
       "      <td>-0.859500</td>\n",
       "      <td>-1.216964</td>\n",
       "      <td>0.779405</td>\n",
       "      <td>0.302552</td>\n",
       "      <td>-0.365410</td>\n",
       "      <td>-0.068711</td>\n",
       "      <td>0.464159</td>\n",
       "      <td>-0.096077</td>\n",
       "      <td>...</td>\n",
       "      <td>-0.20291</td>\n",
       "      <td>-0.073165</td>\n",
       "      <td>-0.081055</td>\n",
       "      <td>-0.05992</td>\n",
       "      <td>0.764971</td>\n",
       "      <td>-0.022706</td>\n",
       "      <td>-0.07365</td>\n",
       "      <td>-0.15062</td>\n",
       "      <td>-0.087348</td>\n",
       "      <td>-0.118816</td>\n",
       "    </tr>\n",
       "    <tr>\n",
       "      <td>2</td>\n",
       "      <td>0.992297</td>\n",
       "      <td>-0.27258</td>\n",
       "      <td>-0.859500</td>\n",
       "      <td>-1.216964</td>\n",
       "      <td>0.779405</td>\n",
       "      <td>-0.694311</td>\n",
       "      <td>-0.365410</td>\n",
       "      <td>0.914172</td>\n",
       "      <td>0.464159</td>\n",
       "      <td>-1.667319</td>\n",
       "      <td>...</td>\n",
       "      <td>-0.20291</td>\n",
       "      <td>-0.073165</td>\n",
       "      <td>-0.081055</td>\n",
       "      <td>-0.05992</td>\n",
       "      <td>0.764971</td>\n",
       "      <td>-0.022706</td>\n",
       "      <td>-0.07365</td>\n",
       "      <td>-0.15062</td>\n",
       "      <td>-0.087348</td>\n",
       "      <td>-0.118816</td>\n",
       "    </tr>\n",
       "    <tr>\n",
       "      <td>3</td>\n",
       "      <td>-1.187437</td>\n",
       "      <td>-0.27258</td>\n",
       "      <td>0.406697</td>\n",
       "      <td>0.010755</td>\n",
       "      <td>-0.970980</td>\n",
       "      <td>1.299414</td>\n",
       "      <td>-0.948264</td>\n",
       "      <td>0.914172</td>\n",
       "      <td>0.464159</td>\n",
       "      <td>-0.619824</td>\n",
       "      <td>...</td>\n",
       "      <td>-0.20291</td>\n",
       "      <td>-0.073165</td>\n",
       "      <td>-0.081055</td>\n",
       "      <td>-0.05992</td>\n",
       "      <td>0.764971</td>\n",
       "      <td>-0.022706</td>\n",
       "      <td>-0.07365</td>\n",
       "      <td>-0.15062</td>\n",
       "      <td>-0.087348</td>\n",
       "      <td>-0.118816</td>\n",
       "    </tr>\n",
       "    <tr>\n",
       "      <td>4</td>\n",
       "      <td>1.225840</td>\n",
       "      <td>-0.27258</td>\n",
       "      <td>1.672893</td>\n",
       "      <td>-1.216964</td>\n",
       "      <td>1.479559</td>\n",
       "      <td>0.302552</td>\n",
       "      <td>-0.365410</td>\n",
       "      <td>-0.068711</td>\n",
       "      <td>0.464159</td>\n",
       "      <td>0.427670</td>\n",
       "      <td>...</td>\n",
       "      <td>-0.20291</td>\n",
       "      <td>-0.073165</td>\n",
       "      <td>-0.081055</td>\n",
       "      <td>-0.05992</td>\n",
       "      <td>0.764971</td>\n",
       "      <td>-0.022706</td>\n",
       "      <td>-0.07365</td>\n",
       "      <td>-0.15062</td>\n",
       "      <td>-0.087348</td>\n",
       "      <td>-0.118816</td>\n",
       "    </tr>\n",
       "  </tbody>\n",
       "</table>\n",
       "<p>5 rows × 85 columns</p>\n",
       "</div>"
      ],
      "text/plain": [
       "    MOSTYPE  MAANTHUI   MGEMOMV  MGEMLEEF  MOSHOOFD    MGODRK    MGODPR  \\\n",
       "0  0.680906  -0.27258  0.406697 -1.216964  0.779405 -0.694311  0.217444   \n",
       "1  0.992297  -0.27258 -0.859500 -1.216964  0.779405  0.302552 -0.365410   \n",
       "2  0.992297  -0.27258 -0.859500 -1.216964  0.779405 -0.694311 -0.365410   \n",
       "3 -1.187437  -0.27258  0.406697  0.010755 -0.970980  1.299414 -0.948264   \n",
       "4  1.225840  -0.27258  1.672893 -1.216964  1.479559  0.302552 -0.365410   \n",
       "\n",
       "     MGODOV    MGODGE    MRELGE  ...   ALEVEN  APERSONG   AGEZONG  AWAOREG  \\\n",
       "0 -0.068711 -0.161816  0.427670  ... -0.20291 -0.073165 -0.081055 -0.05992   \n",
       "1 -0.068711  0.464159 -0.096077  ... -0.20291 -0.073165 -0.081055 -0.05992   \n",
       "2  0.914172  0.464159 -1.667319  ... -0.20291 -0.073165 -0.081055 -0.05992   \n",
       "3  0.914172  0.464159 -0.619824  ... -0.20291 -0.073165 -0.081055 -0.05992   \n",
       "4 -0.068711  0.464159  0.427670  ... -0.20291 -0.073165 -0.081055 -0.05992   \n",
       "\n",
       "     ABRAND   AZEILPL  APLEZIER   AFIETS   AINBOED  ABYSTAND  \n",
       "0  0.764971 -0.022706  -0.07365 -0.15062 -0.087348 -0.118816  \n",
       "1  0.764971 -0.022706  -0.07365 -0.15062 -0.087348 -0.118816  \n",
       "2  0.764971 -0.022706  -0.07365 -0.15062 -0.087348 -0.118816  \n",
       "3  0.764971 -0.022706  -0.07365 -0.15062 -0.087348 -0.118816  \n",
       "4  0.764971 -0.022706  -0.07365 -0.15062 -0.087348 -0.118816  \n",
       "\n",
       "[5 rows x 85 columns]"
      ]
     },
     "metadata": {},
     "output_type": "display_data"
    }
   ],
   "source": [
    "scaler= StandardScaler()\n",
    "scaler.fit(X)\n",
    "X_scaled = scaler.transform(X)\n",
    "\n",
    "# DataFrame\n",
    "X_scaled = pd.DataFrame(X_scaled, columns=X.columns.tolist())\n",
    "display(X_scaled.head())"
   ]
  },
  {
   "cell_type": "code",
   "execution_count": 58,
   "metadata": {},
   "outputs": [],
   "source": [
    "# Transform y\n",
    "y = np.where(y=='Yes', 1, 0)"
   ]
  },
  {
   "cell_type": "code",
   "execution_count": 154,
   "metadata": {},
   "outputs": [],
   "source": [
    "from sklearn.model_selection import train_test_split\n",
    "from sklearn.metrics import accuracy_score, confusion_matrix, roc_auc_score, f1_score, classification_report, plot_roc_curve, precision_score, recall_score\n",
    "from sklearn.model_selection import cross_val_score"
   ]
  },
  {
   "cell_type": "code",
   "execution_count": 155,
   "metadata": {},
   "outputs": [],
   "source": [
    "X_train, X_test, y_train, y_test = train_test_split(X_scaled, y, test_size=1.0/5)"
   ]
  },
  {
   "cell_type": "code",
   "execution_count": 156,
   "metadata": {},
   "outputs": [],
   "source": [
    "knn = KNeighborsClassifier()\n",
    "knn.fit(X_train, y_train)\n",
    "preds = knn.predict(X_test)"
   ]
  },
  {
   "cell_type": "code",
   "execution_count": 157,
   "metadata": {},
   "outputs": [
    {
     "name": "stdout",
     "output_type": "stream",
     "text": [
      "[[1086    7]\n",
      " [  69    3]]\n"
     ]
    }
   ],
   "source": [
    "print(confusion_matrix(y_test, preds))"
   ]
  },
  {
   "cell_type": "markdown",
   "metadata": {},
   "source": [
    "We have an imbalanced dataset, where the majority of individuals do not make a purchase. Accuracy does not really tell us anything in this case, as we can get a fairly accurate classifier by predicting NO to everything.  "
   ]
  },
  {
   "cell_type": "code",
   "execution_count": 158,
   "metadata": {},
   "outputs": [
    {
     "data": {
      "text/plain": [
       "0.9381974248927039"
      ]
     },
     "execution_count": 158,
     "metadata": {},
     "output_type": "execute_result"
    }
   ],
   "source": [
    "accuracy_score(y_test, [0 for i in range(len(y_test))])"
   ]
  },
  {
   "cell_type": "markdown",
   "metadata": {},
   "source": [
    "Instead, we should be interested in the following: Of the 66 customers that did make a purchase, how many of those did our model capture? For this we can use what is called \"recall\".\n",
    "\n",
    "Imagine a sales person that tries to sell a caravan to a random person -> we can calculate his success rate using our existing dataset, which puts him at 6% (6% of customers made a purchase).\n",
    "\n",
    "There are of course costs involved with making a sale, so the company doesn't really want the sales person targeting everybody in order to make a sale. In reality he should target customers that are likely to purchase. Given we had a model that could do that (i.e this model) what would his success rate be now?"
   ]
  },
  {
   "cell_type": "code",
   "execution_count": 161,
   "metadata": {},
   "outputs": [
    {
     "name": "stdout",
     "output_type": "stream",
     "text": [
      "0.041666666666666664\n",
      "\n",
      "0.041666666666666664\n"
     ]
    }
   ],
   "source": [
    "print(recall_score(y_test, preds))\n",
    "print()\n",
    "print(3 / (69 + 3))"
   ]
  },
  {
   "cell_type": "markdown",
   "metadata": {},
   "source": [
    "Really we should cross-validate that score -> we could just have gotten favourable data on our train/test splits. This is the default model used above."
   ]
  },
  {
   "cell_type": "code",
   "execution_count": 160,
   "metadata": {},
   "outputs": [
    {
     "data": {
      "text/plain": [
       "0.022988505747126436"
      ]
     },
     "execution_count": 160,
     "metadata": {},
     "output_type": "execute_result"
    }
   ],
   "source": [
    "np.mean(cross_val_score(KNeighborsClassifier(n_neighbors=5), X_scaled, y, cv=3, scoring='recall'))"
   ]
  },
  {
   "cell_type": "markdown",
   "metadata": {},
   "source": [
    "Ok, so this model configuration actually performs worse -> so lets see if we can improve that."
   ]
  },
  {
   "cell_type": "code",
   "execution_count": 128,
   "metadata": {},
   "outputs": [],
   "source": [
    "n = [1, 2, 3, 4, 5, 6, 7, 8, 9, 10]\n",
    "recall = []\n",
    "for i in n:\n",
    "    knn = KNeighborsClassifier(n_neighbors=i)\n",
    "    \n",
    "    recall_scores = []\n",
    "    for i in range(3):\n",
    "        X_train, X_test, y_train, y_test = train_test_split(X_scaled, y, test_size=0.2)\n",
    "        knn.fit(X_train, y_train)\n",
    "        preds = knn.predict(X_test)\n",
    "        recall_scores.append(recall_score(y_test, preds))\n",
    "    \n",
    "    recall.append(np.mean(recall_scores))"
   ]
  },
  {
   "cell_type": "markdown",
   "metadata": {},
   "source": [
    "we can achieve the same using cross_val_score"
   ]
  },
  {
   "cell_type": "code",
   "execution_count": 135,
   "metadata": {},
   "outputs": [],
   "source": [
    "n = [1, 2, 3, 4, 5, 6, 7, 8, 9, 10]\n",
    "recall = []\n",
    "for i in n:\n",
    "    knn = KNeighborsClassifier(n_neighbors=i)\n",
    "    recall.append(np.mean(cross_val_score(knn, X_scaled, y, cv=3, scoring='recall', n_jobs=-1)))"
   ]
  },
  {
   "cell_type": "code",
   "execution_count": 136,
   "metadata": {},
   "outputs": [
    {
     "data": {
      "text/plain": [
       "Text(0.5, 0, 'K')"
      ]
     },
     "execution_count": 136,
     "metadata": {},
     "output_type": "execute_result"
    },
    {
     "data": {
      "image/png": "[encoded data removed]",
      "text/plain": [
       "<Figure size 432x288 with 1 Axes>"
      ]
     },
     "metadata": {
      "needs_background": "light"
     },
     "output_type": "display_data"
    }
   ],
   "source": [
    "fig, ax = plt.subplots(1, 1)\n",
    "ax.plot(n, recall)\n",
    "ax.set_ylabel('recall')\n",
    "ax.set_xlabel('K')"
   ]
  },
  {
   "cell_type": "markdown",
   "metadata": {},
   "source": [
    "So it appears that 1 is the optimal neighbor."
   ]
  },
  {
   "cell_type": "code",
   "execution_count": 152,
   "metadata": {},
   "outputs": [
    {
     "data": {
      "text/plain": [
       "array([0.12931034, 0.14655172, 0.0862069 ])"
      ]
     },
     "execution_count": 152,
     "metadata": {},
     "output_type": "execute_result"
    }
   ],
   "source": [
    "cross_val_score(KNeighborsClassifier(n_neighbors=1), X_scaled, y, cv=3, scoring='recall', n_jobs=-1)"
   ]
  },
  {
   "cell_type": "code",
   "execution_count": 162,
   "metadata": {},
   "outputs": [],
   "source": [
    "knn = KNeighborsClassifier(n_neighbors=1)\n",
    "knn.fit(X_train, y_train)\n",
    "preds = knn.predict(X_test)"
   ]
  },
  {
   "cell_type": "code",
   "execution_count": 164,
   "metadata": {},
   "outputs": [
    {
     "data": {
      "text/plain": [
       "array([[1032,   61],\n",
       "       [  62,   10]], dtype=int64)"
      ]
     },
     "execution_count": 164,
     "metadata": {},
     "output_type": "execute_result"
    }
   ],
   "source": [
    "confusion_matrix(y_test, preds)"
   ]
  },
  {
   "cell_type": "code",
   "execution_count": 166,
   "metadata": {},
   "outputs": [
    {
     "data": {
      "text/plain": [
       "0.1388888888888889"
      ]
     },
     "execution_count": 166,
     "metadata": {},
     "output_type": "execute_result"
    }
   ],
   "source": [
    "recall_score(y_test, preds)"
   ]
  }
 ],
 "metadata": {
  "kernelspec": {
   "display_name": "Python 3",
   "language": "python",
   "name": "python3"
  },
  "language_info": {
   "codemirror_mode": {
    "name": "ipython",
    "version": 3
   },
   "file_extension": ".py",
   "mimetype": "text/x-python",
   "name": "python",
   "nbconvert_exporter": "python",
   "pygments_lexer": "ipython3",
   "version": "3.7.3"
  }
 },
 "nbformat": 4,
 "nbformat_minor": 4
}
